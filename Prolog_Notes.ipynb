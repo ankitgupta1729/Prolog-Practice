{
 "cells": [
  {
   "cell_type": "markdown",
   "metadata": {},
   "source": [
    "Today's practitioner of Artificial Intelligence is handicapped\n",
    "unless thoroughly familiar with both Lisp and Prolog, for knowledge of the two\n",
    "principal languages of Artificial Intelligence is essential for a broad point of\n",
    "view"
   ]
  },
  {
   "cell_type": "markdown",
   "metadata": {},
   "source": [
    "t learning about goal-oriented programming through Lisp programs is\n",
    "like reading Shakespeare ina language other than Englis"
   ]
  },
  {
   "cell_type": "markdown",
   "metadata": {},
   "source": [
    "an introduction to Prolog is important for all students of\n",
    "Computer Science, for there is no better way to see what the notion of whattype programming is all about.In particular, the chapters of this book clearly illustrate the difference\n",
    "between how-type and what-type thinking"
   ]
  },
  {
   "cell_type": "markdown",
   "metadata": {},
   "source": [
    "## Part A: The Prolog Language"
   ]
  },
  {
   "cell_type": "markdown",
   "metadata": {},
   "source": [
    "### Chapter 1: An overview of Prolog"
   ]
  },
  {
   "cell_type": "markdown",
   "metadata": {},
   "source": [
    "Prolog is a programming language for symbolic, non-numeric computation. It\n",
    "is specially well suited for solving problems that involve objects and relations\n",
    "between objects. Figure 1.1 shows an example: a family relation.    \n",
    "    The fact that\n",
    "Tom is a parent of Bob can be written in Prolog as:      \n",
    "parent( tom, bob)."
   ]
  },
  {
   "cell_type": "code",
   "execution_count": null,
   "metadata": {},
   "outputs": [],
   "source": []
  }
 ],
 "metadata": {
  "kernelspec": {
   "display_name": "Python 3 (ipykernel)",
   "language": "python",
   "name": "python3"
  },
  "language_info": {
   "codemirror_mode": {
    "name": "ipython",
    "version": 3
   },
   "file_extension": ".py",
   "mimetype": "text/x-python",
   "name": "python",
   "nbconvert_exporter": "python",
   "pygments_lexer": "ipython3",
   "version": "3.8.5"
  }
 },
 "nbformat": 4,
 "nbformat_minor": 4
}
